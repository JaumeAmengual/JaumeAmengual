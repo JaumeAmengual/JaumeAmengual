{
  "nbformat": 4,
  "nbformat_minor": 0,
  "metadata": {
    "colab": {
      "name": "Copia de Untitled",
      "provenance": [],
      "authorship_tag": "ABX9TyMGUHHYNUcrSU2lzgKixHqS",
      "include_colab_link": true
    },
    "kernelspec": {
      "name": "python3",
      "display_name": "Python 3"
    },
    "language_info": {
      "name": "python"
    }
  },
  "cells": [
    {
      "cell_type": "markdown",
      "metadata": {
        "id": "view-in-github",
        "colab_type": "text"
      },
      "source": [
        "<a href=\"https://colab.research.google.com/github/JaumeAmengual/JaumeAmengual/blob/main/Copia_de_Untitled.ipynb\" target=\"_parent\"><img src=\"https://colab.research.google.com/assets/colab-badge.svg\" alt=\"Open In Colab\"/></a>"
      ]
    },
    {
      "cell_type": "code",
      "execution_count": null,
      "metadata": {
        "colab": {
          "base_uri": "https://localhost:8080/"
        },
        "id": "H6xT5bTEv0rt",
        "outputId": "1b8d7e2d-8cb7-415a-9a9e-39f41b0809db"
      },
      "outputs": [
        {
          "output_type": "stream",
          "name": "stdout",
          "text": [
            "Introduzca una frase: la madre que te pario\n",
            "\n",
            "Lista de palabras del texto: ['la', 'madre', 'que', 'te', 'pario']\n",
            "\n",
            "Numero de palabras: 5\n",
            "Numero total de letras: 17\n",
            "Promedio de letras por palabra: 3.4\n"
          ]
        }
      ],
      "source": [
        "texto = input('Introduzca una frase: ')\n",
        "\n",
        "c = texto.split() # Devuelve una lista de las palabras de text\n",
        "l = len(c) # Devuelve la longuitud de la lista\n",
        "x = 0\n",
        "\n",
        "for i in range(l): #Suma las letras de todas las palabras de la lista\n",
        "    x += len(c[i])\n",
        "    \n",
        "print('')\n",
        "print('Lista de palabras del texto: ' + str(c))\n",
        "print('')\n",
        "print('Numero de palabras: ' + str(l))\n",
        "print('Numero total de letras: ' + str(x))\n",
        "print('Promedio de letras por palabra: ' + str(x/l))"
      ]
    }
  ]
}